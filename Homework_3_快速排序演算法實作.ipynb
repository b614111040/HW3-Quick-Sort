{
  "nbformat": 4,
  "nbformat_minor": 0,
  "metadata": {
    "colab": {
      "provenance": [],
      "authorship_tag": "ABX9TyM5UJcK00OsUwEoULfYwZ9q",
      "include_colab_link": true
    },
    "kernelspec": {
      "name": "python3",
      "display_name": "Python 3"
    },
    "language_info": {
      "name": "python"
    }
  },
  "cells": [
    {
      "cell_type": "markdown",
      "metadata": {
        "id": "view-in-github",
        "colab_type": "text"
      },
      "source": [
        "<a href=\"https://colab.research.google.com/github/b614111040/HW3-Quick-Sort/blob/main/Homework_3_%E5%BF%AB%E9%80%9F%E6%8E%92%E5%BA%8F%E6%BC%94%E7%AE%97%E6%B3%95%E5%AF%A6%E4%BD%9C.ipynb\" target=\"_parent\"><img src=\"https://colab.research.google.com/assets/colab-badge.svg\" alt=\"Open In Colab\"/></a>"
      ]
    },
    {
      "cell_type": "code",
      "source": [
        "def quick_sort(array):\n",
        "    if len(array) <= 1:\n",
        "        return array\n",
        "\n",
        "    pivot = select_median(array)\n",
        "    smaller, equal, larger = partition(array, pivot)\n",
        "\n",
        "    return quick_sort(smaller) + equal + quick_sort(larger)\n",
        "\n",
        "def select_median(array):\n",
        "    left, right = 0, len(array) - 1\n",
        "    middle = (left + right) // 2\n",
        "\n",
        "    if array[left] > array[middle]:\n",
        "        array[left], array[middle] = array[middle], array[left]\n",
        "    if array[middle] > array[right]:\n",
        "        array[middle], array[right] = array[right], array[middle]\n",
        "    if array[left] > array[middle]:\n",
        "        array[left], array[middle] = array[middle], array[left]\n",
        "\n",
        "    return array[middle]\n",
        "\n",
        "def partition(array, pivot):\n",
        "    smaller = []\n",
        "    equal = []\n",
        "    larger = []\n",
        "\n",
        "    for element in array:\n",
        "        if element < pivot:\n",
        "            smaller.append(element)\n",
        "        elif element == pivot:\n",
        "            equal.append(element)\n",
        "        else:\n",
        "            larger.append(element)\n",
        "\n",
        "    return smaller, equal, larger\n",
        "\n",
        "if __name__ == \"__main__\":\n",
        "    array = [33, 67, 8, 13, 54, 119, 3, 84, 25, 41]\n",
        "    print(\"排序前:\", array)\n",
        "\n",
        "    sorted_array = quick_sort(array)\n",
        "    print(\"排序後:\", sorted_array)"
      ],
      "metadata": {
        "colab": {
          "base_uri": "https://localhost:8080/"
        },
        "id": "cu2uwLqpgIsr",
        "outputId": "a61d7e9f-b6aa-4fdd-d935-3cd74f34c985"
      },
      "execution_count": 5,
      "outputs": [
        {
          "output_type": "stream",
          "name": "stdout",
          "text": [
            "排序前: [33, 67, 8, 13, 54, 119, 3, 84, 25, 41]\n",
            "排序後: [3, 8, 13, 25, 33, 41, 54, 67, 84, 119]\n"
          ]
        }
      ]
    }
  ]
}